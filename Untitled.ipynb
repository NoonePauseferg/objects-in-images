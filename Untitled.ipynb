{
 "cells": [
  {
   "cell_type": "code",
   "execution_count": 1,
   "id": "74bd143a",
   "metadata": {},
   "outputs": [],
   "source": [
    "import numpy as np\n",
    "import matplotlib.pyplot as plt"
   ]
  },
  {
   "cell_type": "code",
   "execution_count": 54,
   "id": "465f8546",
   "metadata": {},
   "outputs": [
    {
     "data": {
      "text/plain": [
       "-47.499995645450674"
      ]
     },
     "execution_count": 54,
     "metadata": {},
     "output_type": "execute_result"
    },
    {
     "data": {
      "image/png": "[encoded data removed]",
      "text/plain": [
       "<Figure size 432x288 with 1 Axes>"
      ]
     },
     "metadata": {
      "needs_background": "light"
     },
     "output_type": "display_data"
    }
   ],
   "source": [
    "X = np.random.normal(50,15, 30)\n",
    "Y = -np.random.normal(50, 7, 30)*X + 30\n",
    "plt.scatter(X, Y)\n",
    "np.mean((Y-np.mean(Y))/(X-np.mean(X)))"
   ]
  },
  {
   "cell_type": "code",
   "execution_count": 52,
   "id": "714b66bc",
   "metadata": {
    "scrolled": true
   },
   "outputs": [
    {
     "data": {
      "text/plain": [
       "(array([6.09784601e+01, 8.34972960e+05]),\n",
       " array([[-0.99984919,  0.0173665 ],\n",
       "        [-0.0173665 , -0.99984919]]))"
      ]
     },
     "execution_count": 52,
     "metadata": {},
     "output_type": "execute_result"
    }
   ],
   "source": [
    "data = np.hstack((X.reshape((-1,1)), Y.reshape((-1, 1))))\n",
    "np.linalg.eig(np.cov(data.T))"
   ]
  },
  {
   "cell_type": "code",
   "execution_count": 53,
   "id": "6620af1f",
   "metadata": {},
   "outputs": [
    {
     "data": {
      "text/plain": [
       "-57.57344254743328"
      ]
     },
     "execution_count": 53,
     "metadata": {},
     "output_type": "execute_result"
    }
   ],
   "source": [
    "a, b = 0.0173665, -0.99984919\n",
    "b/a"
   ]
  }
 ],
 "metadata": {
  "kernelspec": {
   "display_name": "Python 3 (ipykernel)",
   "language": "python",
   "name": "python3"
  },
  "language_info": {
   "codemirror_mode": {
    "name": "ipython",
    "version": 3
   },
   "file_extension": ".py",
   "mimetype": "text/x-python",
   "name": "python",
   "nbconvert_exporter": "python",
   "pygments_lexer": "ipython3",
   "version": "3.7.11"
  }
 },
 "nbformat": 4,
 "nbformat_minor": 5
}
